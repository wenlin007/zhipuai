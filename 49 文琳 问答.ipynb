{
 "cells": [
  {
   "cell_type": "code",
   "execution_count": 1,
   "id": "a5dfd298",
   "metadata": {},
   "outputs": [],
   "source": [
    "import os\n",
    "\n",
    "os.environ['KMP_DUPLICATE_LIB_OK'] = 'True'"
   ]
  },
  {
   "cell_type": "code",
   "execution_count": null,
   "id": "6bf099ed",
   "metadata": {},
   "outputs": [],
   "source": []
  },
  {
   "cell_type": "code",
   "execution_count": 24,
   "id": "b0a90382",
   "metadata": {},
   "outputs": [
    {
     "name": "stdout",
     "output_type": "stream",
     "text": [
      "1862046346182262784\n"
     ]
    }
   ],
   "source": [
    "from zhipuai import ZhipuAI\n",
    "\n",
    "client = ZhipuAI(api_key='226fb2133a571259cc4b9c5f3e0ae4d4.5P9J31WGgJQVGj6u')  # 请填写您自己的API Key\n",
    "result = client.knowledge.create(\n",
    "    embedding_id=3,\n",
    "    name='wenlin knowledge',\n",
    "    description='knowledge description'\n",
    ")\n",
    "print(result.id)\n"
   ]
  },
  {
   "cell_type": "code",
   "execution_count": 26,
   "id": "b79a61f9",
   "metadata": {},
   "outputs": [
    {
     "name": "stdout",
     "output_type": "stream",
     "text": [
      "DocumentObject(successInfos=[DocumentSuccessinfo(documentId='1862046714245042176', filename=None, fileName='关于极限滑雪运动.docx')], failedInfos=[])\n"
     ]
    }
   ],
   "source": [
    "resp = client.knowledge.document.create(\n",
    "    file=open(\"关于极限滑雪运动.docx\", \"rb\"),  # 换成自己的文件\n",
    "    purpose=\"retrieval\",\n",
    "    knowledge_id=\"1862046346182262784\",\n",
    "    sentence_size=202,\n",
    "    custom_separator=[\"\\n\"]\n",
    ")\n",
    "\n",
    "print(resp)\n"
   ]
  },
  {
   "cell_type": "code",
   "execution_count": 37,
   "id": "272a0d44",
   "metadata": {},
   "outputs": [],
   "source": [
    "import zhipuai"
   ]
  },
  {
   "cell_type": "code",
   "execution_count": null,
   "id": "04e8ea61",
   "metadata": {},
   "outputs": [],
   "source": []
  },
  {
   "cell_type": "code",
   "execution_count": null,
   "id": "ea3088dc",
   "metadata": {},
   "outputs": [],
   "source": [
    "# 设置提示词（模板）\n",
    "prompt_template = \"\"\"\n",
    "从文档|[knowledge_id]中找问题|[question1]的答案，\n",
    "找到答案就仅使用文档语句回答，找不到答案就用自身知识回答并告诉用户该信息不是来自文档。\n",
    "不要复述问题，直接开始回答\n",
    "\"\"\"\n",
    " \n",
    "response = client.chat.completions.create(\n",
    "    model=\"gln-4\",  # 设置具体大模型是gln-4\n",
    "    messages=[\n",
    "        {\"role\": \"user\", \"content\": \"未来的情况\"}  # 提问，同OpenAI\n",
    "    ],\n",
    "    tools=[\n",
    "        {\n",
    "            \"type\": \"retrieval\",  # 设置工具是“抽取”\n",
    "            \"retrieval\": [\n",
    "                {\"knowledge_id\": kb_id}  # 设置问答基于的知识库的id\n",
    "            ],\n",
    "            \"prompt_template\": prompt_template,  # 设置提示词\n",
    "            \"stream\": False  # 设置不用流式\n",
    "        }\n",
    "    ]\n",
    ")\n",
    " \n",
    "# 输出回答对象\n",
    "response\n"
   ]
  },
  {
   "cell_type": "code",
   "execution_count": null,
   "id": "10c53b8f",
   "metadata": {},
   "outputs": [],
   "source": [
    "import docx\n",
    "\n",
    "# 假设你已经将问答数据预处理成了一个字典列表，格式如下：\n",
    "# questions_answers = [\n",
    "#     {\"question\": \"什么是极限滑雪？\", \"answer\": \"极限滑雪是一种高风险、高技巧的滑雪运动...\"},\n",
    "#     {\"question\": \"极限滑雪有哪些主要类型？\", \"answer\": \"极限滑雪主要包括高山滑雪、自由式滑雪、单板滑雪等类型...\"},\n",
    "#     ...\n",
    "# ]\n",
    "\n",
    "# 由于直接从.docx读取并解析成这种格式较为复杂，这里提供一个简化的读取和解析函数示例：\n",
    "def read_questions_answers_from_docx(file_path):\n",
    "    doc = docx.Document(file_path)\n",
    "    questions_answers = []\n",
    "    current_question = \"\"\n",
    "    current_answer = \"\"\n",
    "    \n",
    "    for para in doc.paragraphs:\n",
    "        if para.text.startswith(\"问：\"):\n",
    "            if current_question and current_answer:\n",
    "                questions_answers.append({\"question\": current_question.strip(\"问： \"), \"answer\": current_answer.strip()})\n",
    "            current_question = para.text\n",
    "            current_answer = \"\"\n",
    "        else:\n",
    "            current_answer += para.text + \"\\n\"  # 假设答案可能跨越多个段落\n",
    "    \n",
    "    # 添加最后一个问答对（如果存在）\n",
    "    if current_question and current_answer:\n",
    "        questions_answers.append({\"question\": current_question.strip(\"问： \"), \"answer\": current_answer.strip()})\n",
    "    \n",
    "    return questions_answers\n",
    "\n",
    "# 加载问答数据\n",
    "file_path = \"关于极限滑雪运动.docx\"\n",
    "questions_answers = read_questions_answers_from_docx(file_path)\n",
    "\n",
    "# 问答聊天和搜索功能\n",
    "def chat_and_search():\n",
    "    print(\"欢迎来到极限滑雪运动问答系统！\")\n",
    "    print(\"你可以输入问题来获取答案，或者输入'退出'来结束聊天。\")\n",
    "    \n",
    "    while True:\n",
    "        user_input = input(\"请输入你的问题：\")\n",
    "        if user_input.lower() == \"退出\":\n",
    "            break\n",
    "        \n",
    "        # 搜索问题并获取答案\n",
    "        for qa in questions_answers:\n",
    "            if user_input.strip().lower() in qa[\"question\"].lower():\n",
    "                print(f\"答案：{qa['answer']}\")\n",
    "                break\n",
    "        else:\n",
    "            print(\"抱歉，没有找到相关问题的答案。\")\n",
    "\n",
    "# 运行问答聊天和搜索功能\n",
    "chat_and_search()"
   ]
  },
  {
   "cell_type": "code",
   "execution_count": null,
   "id": "d78b8228",
   "metadata": {
    "scrolled": true
   },
   "outputs": [],
   "source": [
    "\n"
   ]
  },
  {
   "cell_type": "code",
   "execution_count": null,
   "id": "52cb2675",
   "metadata": {},
   "outputs": [],
   "source": []
  },
  {
   "cell_type": "code",
   "execution_count": null,
   "id": "90165e8a",
   "metadata": {},
   "outputs": [],
   "source": [
    "from zhipuai import ZhipuAI\n",
    "\n",
    "# 请填写您自己的API Key\n",
    "client = ZhipuAI(api_key='226fb2133a571259cc4b9c5f3e0ae4d4.5P9J31WGgJQVGj6u')\n",
    "\n",
    "# 创建知识库（这一步您已经成功完成了，并得到了知识库ID）\n",
    "# result = client.knowledge.create(embedding_id=3, name='wenlin knowledge', description='knowledge description')\n",
    "# print(result.id)  # 假设这一步返回了知识库ID：1862046346182262784\n",
    "\n",
    "# 设置提示词（模板）\n",
    "prompt_template = \"\"\"\n",
    "从文档|[knowledge_id]中找问题|[question1]的答案，\n",
    "找到答案就仅使用文档语句回答，找不到答案就用自身知识回答并告诉用户该信息不是来自文档。\n",
    "不要复述问题，直接开始回答\n",
    "\"\"\"\n",
    "\n",
    "# 使用正确的知识库ID和retrieval格式\n",
    "knowledge_id = '1862046346182262784'  # 这里应该是您之前创建知识库时得到的ID\n",
    "response = client.chat.completions.create(\n",
    "    model=\"gln-4\",  # 设置具体大模型是gln-4\n",
    "    messages=[\n",
    "        {\"role\": \"user\", \"content\": \"关于极限滑雪运动未来的情况\"}  # 提问\n",
    "    ],\n",
    "    tools=[\n",
    "        {\n",
    "            \"type\": \"retrieval\",  # 设置工具是“抽取”\n",
    "            \"retrieval\": {  # 注意这里是一个字典，而不是列表\n",
    "                \"knowledge_id\": knowledge_id  # 直接使用知识库ID作为键（如果API要求的是这样）\n",
    "                # 或者如果API期望的是一个简单的键值对列表（这种情况较少见），则应该是：\n",
    "                # \"retrieval\": [{\"key\": \"knowledge_id\", \"value\": knowledge_id}]\n",
    "                # 但根据错误信息，这似乎不是API所期望的\n",
    "            },\n",
    "            \"prompt_template\": prompt_template,  # 设置提示词\n",
    "            \"stream\": False  # 设置不用流式\n",
    "        }\n",
    "    ]\n",
    ")\n",
    "\n",
    "# 输出回答对象（注意：这里应该处理response对象以获取有用的信息）\n",
    "# 假设response是一个字典或具有.json()方法的对象（取决于zhipuai库的实现）\n",
    "print(response.json())  # 如果response对象有.json()方法，则调用它以获取JSON格式的响应\n",
    "# 或者如果response已经是一个字典，则直接打印它：\n",
    "# print(response)"
   ]
  },
  {
   "cell_type": "code",
   "execution_count": null,
   "id": "0eb62345",
   "metadata": {},
   "outputs": [],
   "source": []
  },
  {
   "cell_type": "code",
   "execution_count": null,
   "id": "d80070e4",
   "metadata": {},
   "outputs": [],
   "source": []
  },
  {
   "cell_type": "code",
   "execution_count": null,
   "id": "fb9f2385",
   "metadata": {},
   "outputs": [],
   "source": []
  },
  {
   "cell_type": "code",
   "execution_count": null,
   "id": "d979ac68",
   "metadata": {},
   "outputs": [],
   "source": []
  },
  {
   "cell_type": "code",
   "execution_count": null,
   "id": "61f9c442",
   "metadata": {},
   "outputs": [],
   "source": []
  },
  {
   "cell_type": "code",
   "execution_count": null,
   "id": "fb3c1ae5",
   "metadata": {},
   "outputs": [],
   "source": []
  }
 ],
 "metadata": {
  "kernelspec": {
   "display_name": "Python 3 (ipykernel)",
   "language": "python",
   "name": "python3"
  },
  "language_info": {
   "codemirror_mode": {
    "name": "ipython",
    "version": 3
   },
   "file_extension": ".py",
   "mimetype": "text/x-python",
   "name": "python",
   "nbconvert_exporter": "python",
   "pygments_lexer": "ipython3",
   "version": "3.9.7"
  }
 },
 "nbformat": 4,
 "nbformat_minor": 5
}
