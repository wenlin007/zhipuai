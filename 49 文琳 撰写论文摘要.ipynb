{
 "cells": [
  {
   "cell_type": "code",
   "execution_count": 1,
   "id": "3b846d79",
   "metadata": {},
   "outputs": [],
   "source": [
    "import os\n",
    "\n",
    "os.environ['KMP_DUPLICATE_LIB_OK'] = 'True'"
   ]
  },
  {
   "cell_type": "code",
   "execution_count": null,
   "id": "70df31bd",
   "metadata": {},
   "outputs": [],
   "source": []
  },
  {
   "cell_type": "code",
   "execution_count": 2,
   "id": "62ab1a86",
   "metadata": {},
   "outputs": [
    {
     "name": "stdout",
     "output_type": "stream",
     "text": [
      "极限滑雪运动是一种高风险、高技巧的滑雪运动，包括高山滑雪、自由式滑雪和单板滑雪等类型。每种类型都有其独特的技巧和挑战。极限滑雪运动员需要通过长时间的训练来提高自己的技巧和体能，包括平衡训练、力量训练、柔韧性训练以及滑雪技巧的训练等。在比赛中，裁判会根据选手的动作难度、完成度、稳定性、空中姿态、着陆效果等因素进行评分。为了确保选手的安全，比赛中的安全措施包括设置安全网、缓冲区、救援队伍等，同时选手也需要佩戴头盔、护具等防护装备。极限滑雪运动对天气条件有很高的要求，通常需要在低温、干燥、能见度良好的天气下进行。极限滑雪运动员在比赛中需要通过深呼吸、专注比赛、保持积极心态等方式来保持冷静，以应对各种突发情况。此外，他们还可以通过心理训练、模拟比赛、与队友交流等方式来提高自己的心理素质，增强自信心和应对压力的能力。\n"
     ]
    }
   ],
   "source": [
    "from zhipuai import ZhipuAI\n",
    "from pathlib import Path\n",
    "import json\n",
    "\n",
    "# 填写您自己的APIKey\n",
    "client = ZhipuAI(api_key=\"226fb2133a571259cc4b9c5f3e0ae4d4.5P9J31WGgJQVGj6u\")\n",
    "\n",
    "# 格式限制：.PDF, .DOCX, .DOC, .XLS, .XLSX, .PPT, .PPTX, .PNG, .JPG, .JPEG, .CSV, .PY, .TXT, .MD, .BMP, .GIF\n",
    "# 大小：单个文件50M，总数限制为100个文件\n",
    "file_object = client.files.create(file=Path(\"关于极限滑雪运动.docx\"), purpose=\"file-extract\")\n",
    "\n",
    "# 获取文本内容\n",
    "file_content = json.loads(client.files.content(file_id=file_object.id).content)['content']\n",
    "\n",
    "# 生成请求消息\n",
    "message_content = f\"请对\\n{file_content}\\n的内容进行分析，并撰写一份论文摘要。\"\n",
    "response = client.chat.completions.create(\n",
    "    model=\"glm-4-long\",\n",
    "    messages=[{\"role\": \"user\", \"content\": message_content}]\n",
    ")\n",
    "\n",
    "# 打印响应消息\n",
    "print(response.choices[0].message.content)"
   ]
  },
  {
   "cell_type": "code",
   "execution_count": null,
   "id": "b58715c6",
   "metadata": {},
   "outputs": [],
   "source": []
  }
 ],
 "metadata": {
  "kernelspec": {
   "display_name": "Python 3 (ipykernel)",
   "language": "python",
   "name": "python3"
  },
  "language_info": {
   "codemirror_mode": {
    "name": "ipython",
    "version": 3
   },
   "file_extension": ".py",
   "mimetype": "text/x-python",
   "name": "python",
   "nbconvert_exporter": "python",
   "pygments_lexer": "ipython3",
   "version": "3.9.7"
  }
 },
 "nbformat": 4,
 "nbformat_minor": 5
}
