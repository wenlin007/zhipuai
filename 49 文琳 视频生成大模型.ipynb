{
 "cells": [
  {
   "cell_type": "code",
   "execution_count": null,
   "id": "c2071bf2",
   "metadata": {},
   "outputs": [],
   "source": []
  },
  {
   "cell_type": "code",
   "execution_count": 9,
   "id": "20b1081b",
   "metadata": {},
   "outputs": [
    {
     "name": "stdout",
     "output_type": "stream",
     "text": [
      "VideoObject(id='37641732705469366-9202948470410998727', model='cogvideox', video_result=None, task_status='PROCESSING', request_id='-9202948470410998728')\n"
     ]
    }
   ],
   "source": [
    "from zhipuai import ZhipuAI\n",
    "client = ZhipuAI(api_key=\"226fb2133a571259cc4b9c5f3e0ae4d4.5P9J31WGgJQVGj6u\")\n",
    "\n",
    "response = client.videos.generations(\n",
    "    model=\"cogvideox\",\n",
    "    prompt=\"踏入童话般的梦境，每一帧都是为你编织的浪漫诗篇！🌟\"\n",
    "\n",
    ")\n",
    "print(response)"
   ]
  },
  {
   "cell_type": "code",
   "execution_count": null,
   "id": "3a6e498c",
   "metadata": {},
   "outputs": [],
   "source": []
  },
  {
   "cell_type": "code",
   "execution_count": 12,
   "id": "7484bba1",
   "metadata": {},
   "outputs": [
    {
     "name": "stdout",
     "output_type": "stream",
     "text": [
      "VideoObject(id=None, model='cogvideox', video_result=[VideoResult(url='https://aigc-files.bigmodel.cn/api/cogvideo/d3255c90-acb3-11ef-bd78-9ee7942420ea_0.mp4', cover_image_url='https://aigc-files.bigmodel.cn/api/cogvideo/d3255c90-acb3-11ef-bd78-9ee7942420ea_cover_0.jpeg')], task_status='SUCCESS', request_id='-9202948470410998728')\n"
     ]
    }
   ],
   "source": [
    "from zhipuai import ZhipuAI\n",
    "client = ZhipuAI(api_key=\"226fb2133a571259cc4b9c5f3e0ae4d4.5P9J31WGgJQVGj6u\")\n",
    "\n",
    "response = client.videos.retrieve_videos_result(\n",
    "    id=\"37641732705469366-9202948470410998727\"\n",
    ")\n",
    "print(response)\n"
   ]
  },
  {
   "cell_type": "code",
   "execution_count": null,
   "id": "2c8e579f",
   "metadata": {},
   "outputs": [],
   "source": []
  },
  {
   "cell_type": "code",
   "execution_count": null,
   "id": "1150a6f1",
   "metadata": {},
   "outputs": [],
   "source": []
  }
 ],
 "metadata": {
  "kernelspec": {
   "display_name": "Python 3 (ipykernel)",
   "language": "python",
   "name": "python3"
  },
  "language_info": {
   "codemirror_mode": {
    "name": "ipython",
    "version": 3
   },
   "file_extension": ".py",
   "mimetype": "text/x-python",
   "name": "python",
   "nbconvert_exporter": "python",
   "pygments_lexer": "ipython3",
   "version": "3.9.13"
  }
 },
 "nbformat": 4,
 "nbformat_minor": 5
}
