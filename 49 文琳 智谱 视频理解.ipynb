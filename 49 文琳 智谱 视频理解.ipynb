{
 "cells": [
  {
   "cell_type": "code",
   "execution_count": 4,
   "id": "d7dcfeb0",
   "metadata": {},
   "outputs": [],
   "source": [
    "import os\n",
    "\n",
    "os.environ['KMP_DUPLICATE_LIB_OK'] = 'True'"
   ]
  },
  {
   "cell_type": "code",
   "execution_count": null,
   "id": "fd53f681",
   "metadata": {},
   "outputs": [],
   "source": []
  },
  {
   "cell_type": "code",
   "execution_count": 14,
   "id": "1eb2ac98",
   "metadata": {},
   "outputs": [],
   "source": [
    "import os\n",
    "from zhipuai import ZhipuAI\n",
    "import base64\n",
    "\n",
    "# 设置API密钥\n",
    "os.environ[\"ZHIPUAI_API_KEY\"] = \"226fb2133a571259cc4b9c5f3e0ae4d4.5P9J31WGgJQVGj6u\"\n",
    "\n",
    "# 创建ZhipuAI对象\n",
    "client = ZhipuAI()"
   ]
  },
  {
   "cell_type": "code",
   "execution_count": 15,
   "id": "497c8a5c",
   "metadata": {},
   "outputs": [
    {
     "data": {
      "text/plain": [
       "'C:\\\\Users\\\\admin\\\\Desktop'"
      ]
     },
     "execution_count": 15,
     "metadata": {},
     "output_type": "execute_result"
    }
   ],
   "source": [
    "pwd"
   ]
  },
  {
   "cell_type": "code",
   "execution_count": 19,
   "id": "ed479c20",
   "metadata": {},
   "outputs": [
    {
     "name": "stdout",
     "output_type": "stream",
     "text": [
      "通常来说，视频理解的响应时间较长，需要等待数十秒......\n",
      "CompletionMessage(content='在视频中，我们可以看到一群女性在一个舞蹈室内练习舞蹈。她们穿着黑色的衣服和鞋子，其中一些人还戴着头巾或帽子。一位身穿黑色西装的男士站在中间，似乎在指导这些女性。房间内的墙壁是白色的，地板是木质的。在背景中，可以看到一个空调装置和一个窗户。随着视频的进行，我们可以看到这些女性正在练习各种舞蹈动作，包括手臂、腿部和身体协调的动作。她们的表情专注而认真，显示出她们对舞蹈艺术的热情和投入。总的来说，这个视频展示了一群热爱舞蹈的人在一起练习和进步的场景。', role='assistant', tool_calls=None)\n"
     ]
    }
   ],
   "source": [
    "# 设置视频文件的路径\n",
    "video_path = r\"C:\\Users\\admin\\Downloads\\秋去冬来月如风.mp4\"\n",
    "\n",
    "# 以“二进制读取”模式打开视频文件，并编码成base64字符串格式\n",
    "with open(video_path, 'rb') as video_file:\n",
    "    video_base64 = base64.b64encode(video_file.read()).decode('utf-8')\n",
    "\n",
    "# 打印提示信息（可选）\n",
    "print(\"通常来说，视频理解的响应时间较长，需要等待数十秒......\")\n",
    "\n",
    "# 调用chat.completions.create方法来获取视频理解的结果\n",
    "response = client.chat.completions.create(\n",
    "    model=\"glm-4v-plus\",  # 设置智谱具体大模型\n",
    "    temperature=0.0,      # 设置温度参数，控制生成文本的随机性\n",
    "    top_p=0,              # 设置top_p参数，控制生成文本的多样性（0表示不使用）\n",
    "    messages=[\n",
    "        {\n",
    "            \"role\": \"user\",  # 指定消息的角色为用户\n",
    "            \"content\": [\n",
    "                {\n",
    "                    \"type\": \"video_url\",  # 设置视频链接类型\n",
    "                    \"video_url\": {\"url\": video_base64}  # 将编码后的视频以base64字符串形式作为链接\n",
    "                },\n",
    "                {\n",
    "                    \"type\": \"text\",  # 设置提问/提示词类型为文本\n",
    "                    \"text\": \"分析视频,去精确描述150字\"  # 设置提问/提示词\n",
    "                }\n",
    "            ]\n",
    "        }\n",
    "    ]\n",
    ")\n",
    "\n",
    "# 输出回答列表中的第一个选项中的消息\n",
    "print(response.choices[0].message)"
   ]
  },
  {
   "cell_type": "code",
   "execution_count": 10,
   "id": "b32e5e58",
   "metadata": {},
   "outputs": [
    {
     "name": "stdout",
     "output_type": "stream",
     "text": [
      "好\n"
     ]
    }
   ],
   "source": [
    "print(response.choices[0].message.content[0] if response.choices else \"No response received.\")"
   ]
  },
  {
   "cell_type": "code",
   "execution_count": null,
   "id": "d0ddb41b",
   "metadata": {},
   "outputs": [],
   "source": []
  },
  {
   "cell_type": "code",
   "execution_count": null,
   "id": "cfb5a681",
   "metadata": {},
   "outputs": [],
   "source": []
  },
  {
   "cell_type": "code",
   "execution_count": null,
   "id": "09d02f91",
   "metadata": {},
   "outputs": [],
   "source": []
  }
 ],
 "metadata": {
  "kernelspec": {
   "display_name": "Python 3 (ipykernel)",
   "language": "python",
   "name": "python3"
  },
  "language_info": {
   "codemirror_mode": {
    "name": "ipython",
    "version": 3
   },
   "file_extension": ".py",
   "mimetype": "text/x-python",
   "name": "python",
   "nbconvert_exporter": "python",
   "pygments_lexer": "ipython3",
   "version": "3.9.7"
  }
 },
 "nbformat": 4,
 "nbformat_minor": 5
}
